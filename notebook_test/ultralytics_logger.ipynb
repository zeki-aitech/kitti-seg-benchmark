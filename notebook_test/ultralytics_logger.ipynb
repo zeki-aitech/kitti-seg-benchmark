{
 "cells": [
  {
   "cell_type": "code",
   "execution_count": 1,
   "id": "90dfa31c",
   "metadata": {},
   "outputs": [],
   "source": [
    "from ultralytics.utils import LOGGER"
   ]
  },
  {
   "cell_type": "code",
   "execution_count": 2,
   "id": "7a61a789",
   "metadata": {},
   "outputs": [
    {
     "name": "stdout",
     "output_type": "stream",
     "text": [
      "Running YOLOv8 inference with PyTorch Hub\n"
     ]
    }
   ],
   "source": [
    "LOGGER.info('Running YOLOv8 inference with PyTorch Hub')"
   ]
  }
 ],
 "metadata": {
  "kernelspec": {
   "display_name": "base",
   "language": "python",
   "name": "python3"
  },
  "language_info": {
   "codemirror_mode": {
    "name": "ipython",
    "version": 3
   },
   "file_extension": ".py",
   "mimetype": "text/x-python",
   "name": "python",
   "nbconvert_exporter": "python",
   "pygments_lexer": "ipython3",
   "version": "3.11.11"
  }
 },
 "nbformat": 4,
 "nbformat_minor": 5
}
